{
 "cells": [
  {
   "cell_type": "markdown",
   "id": "86763a5a-ba49-4f79-8a18-d18cc32223f6",
   "metadata": {},
   "source": [
    "# 🎧 Mood + Weather Based Playlist Recommender\n",
    "\n",
    "This fun mini project suggests a Spotify-style playlist based on your **current mood** and **local weather**.\n",
    "\n",
    "You’ll:\n",
    "- Enter your mood (happy, sad, relaxed, or energetic)\n",
    "- Enter your city\n",
    "- Get real-time weather using **OpenWeather API**\n",
    "- Get a matching playlist suggestion! 🎵\n",
    "\n",
    "Let’s bring creativity + data together ❤️\n"
   ]
  },
  {
   "cell_type": "code",
   "execution_count": 2,
   "id": "682f889f-a942-4d91-8445-ddf03a1e2fa5",
   "metadata": {},
   "outputs": [],
   "source": [
    "from dotenv import load_dotenv\n",
    "import os\n",
    "\n",
    "load_dotenv(dotenv_path='api_key.env')  # Load from your env file\n",
    "\n",
    "api_key = os.getenv(\"API_KEY\")"
   ]
  },
  {
   "cell_type": "markdown",
   "id": "3e3b44b4-2372-4946-a53c-1ed73f6ff55d",
   "metadata": {},
   "source": [
    "## 🎵 Define Mood & Weather-Based Playlist Suggestions\n"
   ]
  },
  {
   "cell_type": "code",
   "execution_count": 4,
   "id": "2fd560e1-f8bc-4813-ae37-9e61892be7fe",
   "metadata": {},
   "outputs": [],
   "source": [
    "import random\n",
    "\n",
    "playlist_map = {\n",
    "    'happy': {\n",
    "        'clear': [\n",
    "            ('Bollywood Party Hits 🎉', 'https://open.spotify.com/playlist/37i9dQZF1DX0BcQWzuB7ZO'),\n",
    "            ('Yo Yo Honey Singh Vibes 😎', 'https://open.spotify.com/playlist/37i9dQZF1DWTqYqGLu7kTX')\n",
    "        ],\n",
    "        'rain': [\n",
    "            ('Baarish Ke Geet 🌧️', 'https://open.spotify.com/playlist/0E6cBh6nAyyCdrz5aPoYPz'),\n",
    "            ('Monsoon Romance - Arijit 🎶', 'https://open.spotify.com/playlist/37i9dQZF1DWVDCraF986xg')\n",
    "        ],\n",
    "        'clouds': [\n",
    "            ('Cloudy Chill - Jubin Nautiyal 🌥️', 'https://open.spotify.com/playlist/37i9dQZF1DX3u9TSHqpdJC'),\n",
    "            ('Mood Uplift - Hindi Acoustic 🎸', 'https://open.spotify.com/playlist/37i9dQZF1DWUZ5bk6qqDSy')\n",
    "        ],\n",
    "        'snow': [\n",
    "            ('Snowy Love Songs ❄️', 'https://open.spotify.com/playlist/6nV2lIrjb0flg7zbnZrkRK'),\n",
    "            ('Hot Chocolate Bollywood Mix 🔥', 'https://open.spotify.com/playlist/0O5KkufTbg4P30BzBSSZfD')\n",
    "        ]\n",
    "    },\n",
    "    'sad': {\n",
    "        'clear': [\n",
    "            ('Broken but Beautiful 💔', 'https://open.spotify.com/playlist/37i9dQZF1DWSqBruwoIXkA'),\n",
    "            ('Sad but Sunny Vibes 🌞', 'https://open.spotify.com/playlist/1BRQybQlJ84WWYajfrN6Z4')\n",
    "        ],\n",
    "        'rain': [\n",
    "            ('Emotional Baarish Songs ☔', 'https://open.spotify.com/playlist/3Jh16Tnvw6nZ0jzjM04Ig0'),\n",
    "            ('Heartbreak Lo-Fi 🎻', 'https://open.spotify.com/playlist/4fLDeMoDfZXaHgnmU1ZTiB')\n",
    "        ],\n",
    "        'clouds': [\n",
    "            ('Dard Bhare Geet 🖤', 'https://open.spotify.com/playlist/1A3vTJnBs6Ds6i0yT0dxKD'),\n",
    "            ('Sadness in the Sky 🎤', 'https://open.spotify.com/playlist/1r6tOk4PQnz4twO4R8OgsM')\n",
    "        ],\n",
    "        'snow': [\n",
    "            ('Thandi Yaadein 🥶', 'https://open.spotify.com/playlist/5P0BxWglQ8zIJDnLqAYTOj'),\n",
    "            ('Piano for the Soul 🎹', 'https://open.spotify.com/playlist/37i9dQZF1DWUvHZA1zLcjW')\n",
    "        ]\n",
    "    },\n",
    "    'energetic': {\n",
    "        'clear': [\n",
    "            ('Bollywood Workout Mix 💃', 'https://open.spotify.com/playlist/37i9dQZF1DWVDCraF986xg'),\n",
    "            ('EDM x Punjabi Beats 🎧', 'https://open.spotify.com/playlist/37i9dQZF1DWWrJKwf0q9nn')\n",
    "        ],\n",
    "        'rain': [\n",
    "            ('Rain Dance Mashup ⚡', 'https://open.spotify.com/playlist/4tEBA1LoMCsffkDqBshm7T'),\n",
    "            ('Monsoon Energy 🔥', 'https://open.spotify.com/playlist/4ROijjKsjTu6ZsQSLZPa0v')\n",
    "        ],\n",
    "        'clouds': [\n",
    "            ('Moody Motivation 🕺', 'https://open.spotify.com/playlist/5Qv95hAr6CRJjvq8aDxzzj'),\n",
    "            ('Cloud-Piercing Beats 🎯', 'https://open.spotify.com/playlist/3iI4u1iZJvUolwGhTPaSgf')\n",
    "        ],\n",
    "        'snow': [\n",
    "            ('Snowstorm Pump-Up 🚀', 'https://open.spotify.com/playlist/3eqhyX7zLE8IVV6gaIgWYb'),\n",
    "            ('Winter Workout Bollywood 🎽', 'https://open.spotify.com/playlist/5j4Tjcyc0MxN2MZpIFJja3')\n",
    "        ]\n",
    "    },\n",
    "    'relaxed': {\n",
    "        'clear': [\n",
    "            ('Morning Chill - Armaan Malik 🌅', 'https://open.spotify.com/playlist/4fUu6h5QKy7oDNw6tov5cM'),\n",
    "            ('Bollywood Lo-Fi 🌸', 'https://open.spotify.com/playlist/6wr9sv5Pf4wN96oUqlIQoc')\n",
    "        ],\n",
    "        'rain': [\n",
    "            ('Chai aur Gaane ☕', 'https://open.spotify.com/playlist/5TuZq7HgFe01XPy7VmJrs4'),\n",
    "            ('Study with Sufi 📚', 'https://open.spotify.com/playlist/3kMyXH1cmngbLTgi3gPb8m')\n",
    "        ],\n",
    "        'clouds': [\n",
    "            ('Overcast + Mehfil 🌫️', 'https://open.spotify.com/playlist/6RAv1kOBKJt8r3ZPZljtkN'),\n",
    "            ('Peaceful Piano 🧘', 'https://open.spotify.com/playlist/1FKq5T9Y5FA2FYrEx9sw1H')\n",
    "        ],\n",
    "        'snow': [\n",
    "            ('Warm Hindi Instrumentals 🔥', 'https://open.spotify.com/playlist/37i9dQZF1DX4wta20PHgwo'),\n",
    "            ('Snowy Night Ghazals ❄️', 'https://open.spotify.com/playlist/37i9dQZF1DWU0ScTcjJBdj')\n",
    "        ]\n",
    "    }\n",
    "}\n"
   ]
  },
  {
   "cell_type": "code",
   "execution_count": 5,
   "id": "7c8085cf-aa43-4218-9123-5ea969371597",
   "metadata": {},
   "outputs": [
    {
     "data": {
      "text/html": [
       "<a href=\"happy\" target=\"_blank\">happy</a>"
      ],
      "text/plain": [
       "<IPython.core.display.HTML object>"
      ]
     },
     "metadata": {},
     "output_type": "display_data"
    },
    {
     "data": {
      "text/html": [
       "<a href=\"sad\" target=\"_blank\">sad</a>"
      ],
      "text/plain": [
       "<IPython.core.display.HTML object>"
      ]
     },
     "metadata": {},
     "output_type": "display_data"
    },
    {
     "data": {
      "text/html": [
       "<a href=\"energetic\" target=\"_blank\">energetic</a>"
      ],
      "text/plain": [
       "<IPython.core.display.HTML object>"
      ]
     },
     "metadata": {},
     "output_type": "display_data"
    },
    {
     "data": {
      "text/html": [
       "<a href=\"relaxed\" target=\"_blank\">relaxed</a>"
      ],
      "text/plain": [
       "<IPython.core.display.HTML object>"
      ]
     },
     "metadata": {},
     "output_type": "display_data"
    }
   ],
   "source": [
    "import IPython.display as display\n",
    "\n",
    "# Get the playlist list using your function\n",
    "suggested = playlist_map\n",
    "\n",
    "# Display clickable links\n",
    "for link in suggested:\n",
    "    display.display(display.HTML(f'<a href=\"{link}\" target=\"_blank\">{link}</a>'))"
   ]
  },
  {
   "cell_type": "markdown",
   "id": "0b41d4bf-1512-43da-892f-2564fbe278b7",
   "metadata": {},
   "source": [
    "## 🌦️ Get Weather from OpenWeather API\n"
   ]
  },
  {
   "cell_type": "code",
   "execution_count": 7,
   "id": "479b3aee-19ea-4c04-b6ee-84acc3fcefb2",
   "metadata": {},
   "outputs": [],
   "source": [
    "import requests\n",
    "\n",
    "def get_weather(city, api_key):\n",
    "    url = f\"http://api.openweathermap.org/data/2.5/weather?q={city}&appid={api_key}\"\n",
    "    response = requests.get(url)\n",
    "    if response.status_code != 200:\n",
    "        print(\"❌ Error fetching weather data.\")\n",
    "        return None\n",
    "    data = response.json()\n",
    "    return data['weather'][0]['main'].lower()  # like 'clear', 'rain', etc.\n"
   ]
  },
  {
   "cell_type": "markdown",
   "id": "41fa951a-cb01-4983-b8dd-6d8765e24881",
   "metadata": {},
   "source": [
    "## 🎯 Playlist Suggestion Based on Mood + Weather\n"
   ]
  },
  {
   "cell_type": "code",
   "execution_count": 9,
   "id": "286734c2-e14e-435e-8fea-125a5c2d6621",
   "metadata": {},
   "outputs": [],
   "source": [
    "def suggest_playlist(mood, weather):\n",
    "    mood = mood.lower()\n",
    "    weather = weather.lower()\n",
    "\n",
    "    if mood in playlist_map and weather in playlist_map[mood]:\n",
    "        name, link = random.choice(playlist_map[mood][weather])\n",
    "        return f\"{name} 🎶\\n🔗 {link}\"\n",
    "    else:\n",
    "        return \"No matching playlist found... Try this: https://open.spotify.com/playlist/37i9dQZF1DX3u9TSHqpdJC\"\n"
   ]
  },
  {
   "cell_type": "markdown",
   "id": "71c521fe-bb9e-49d4-aef6-394d7e278871",
   "metadata": {},
   "source": [
    "## 🧪 Try it Yourself!\n"
   ]
  },
  {
   "cell_type": "code",
   "execution_count": null,
   "id": "63f1d2c9-87a3-4329-9357-d30bae09f036",
   "metadata": {},
   "outputs": [],
   "source": [
    "from dotenv import load_dotenv\n",
    "import os\n",
    "\n",
    "load_dotenv(dotenv_path='api_key.env')\n",
    "api_key = os.getenv(\"API_KEY\")\n",
    "\n",
    "# Get user inputs\n",
    "city = input(\"📍 Enter your city: \")\n",
    "mood = input(\"😊 How are you feeling? (happy, sad, energetic, relaxed): \")\n",
    "\n",
    "# Get current weather\n",
    "weather = get_weather(city, api_key)\n",
    "\n",
    "if weather:\n",
    "    print(f\"🌤️ Current weather in {city.title()}: {weather}\")\n",
    "    print(\"\\n🎧 Recommended Playlist:\")\n",
    "    print(suggest_playlist(mood, weather))\n",
    "else:\n",
    "    print(\"❌ Error fetching weather data.\\nPlease try again with a valid city name.\")\n"
   ]
  },
  {
   "cell_type": "code",
   "execution_count": null,
   "id": "6895791f-5d36-4996-ae3e-8b0682e58525",
   "metadata": {},
   "outputs": [],
   "source": []
  }
 ],
 "metadata": {
  "kernelspec": {
   "display_name": "Python [conda env:base] *",
   "language": "python",
   "name": "conda-base-py"
  },
  "language_info": {
   "codemirror_mode": {
    "name": "ipython",
    "version": 3
   },
   "file_extension": ".py",
   "mimetype": "text/x-python",
   "name": "python",
   "nbconvert_exporter": "python",
   "pygments_lexer": "ipython3",
   "version": "3.12.7"
  }
 },
 "nbformat": 4,
 "nbformat_minor": 5
}
